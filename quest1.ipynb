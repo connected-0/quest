{
 "cells": [
  {
   "cell_type": "code",
   "execution_count": 1,
   "id": "09645555",
   "metadata": {},
   "outputs": [
    {
     "data": {
      "text/plain": [
       "'010-12345-#####'"
      ]
     },
     "execution_count": 1,
     "metadata": {},
     "output_type": "execute_result"
    }
   ],
   "source": [
    "numbers = '010-12345-23456'\n",
    "def change_num(nums):\n",
    "    answer=numbers.replace(numbers[-5:], '#####')\n",
    "    return answer\n",
    "\n",
    "change_num('010-13579-24688')"
   ]
  },
  {
   "cell_type": "code",
   "execution_count": 3,
   "id": "4a873f9e",
   "metadata": {},
   "outputs": [
    {
     "data": {
      "text/plain": [
       "[1, 2, 3, 4, 5, 6, 7, 8, 9]"
      ]
     },
     "execution_count": 3,
     "metadata": {},
     "output_type": "execute_result"
    }
   ],
   "source": [
    "def flatten(data):\n",
    "        output = []  # 빈 리스트를 만듭니다.\n",
    "        for item in data:\n",
    "                if type(item) == list:\n",
    "                        output += flatten(item)\n",
    "                else:\n",
    "                        output.append(item)\n",
    "\n",
    "        return output\n",
    "\n",
    "a = [[1, 2], 3, [[4, 5, 6], 7], 8, 9]\n",
    "flatten(a)"
   ]
  },
  {
   "cell_type": "code",
   "execution_count": 2,
   "id": "339922e8",
   "metadata": {},
   "outputs": [
    {
     "data": {
      "text/plain": [
       "120"
      ]
     },
     "execution_count": 2,
     "metadata": {},
     "output_type": "execute_result"
    }
   ],
   "source": [
    "def mul(*values):\n",
    "    output = 1\n",
    "    for num in values:\n",
    "        if num <= 10:\n",
    "            output *= num\n",
    "        else:\n",
    "            pass\n",
    "    return output\n",
    "\n",
    "mul(2, 3, 4, 5)"
   ]
  }
 ],
 "metadata": {
  "kernelspec": {
   "display_name": "Python 3 (ipykernel)",
   "language": "python",
   "name": "python3"
  },
  "language_info": {
   "codemirror_mode": {
    "name": "ipython",
    "version": 3
   },
   "file_extension": ".py",
   "mimetype": "text/x-python",
   "name": "python",
   "nbconvert_exporter": "python",
   "pygments_lexer": "ipython3",
   "version": "3.9.7"
  }
 },
 "nbformat": 4,
 "nbformat_minor": 5
}
